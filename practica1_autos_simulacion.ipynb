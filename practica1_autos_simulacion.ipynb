{
 "cells": [
  {
   "cell_type": "markdown",
   "metadata": {},
   "source": [
    "# Práctica 1 – Simulación de cartera de Autos\n",
    "\n",
    "En este cuaderno construiremos un dataset sintético para representar una cartera de pólizas de autos. Asumimos tres coberturas principales: **Daños Materiales (DM)**, **Robo Total (Robo)** y **Responsabilidad Civil (RC)**. Los parámetros de frecuencia y severidad se basan en supuestos ficticios que pueden ser ajustados."
   ]
  },
  {
   "cell_type": "markdown",
   "metadata": {},
   "source": [
    "## Importación de librerías y fijación de semilla"
   ]
  },
  {
   "cell_type": "code",
   "execution_count": 1,
   "metadata": {},
   "outputs": [],
   "source": [
    "import numpy as np\n",
    "import pandas as pd\n",
    "import matplotlib.pyplot as plt\n",
    "\n",
    "# Fijamos semilla para reproducibilidad\n",
    "np.random.seed(2025)"
   ]
  },
  {
   "cell_type": "markdown",
   "metadata": {},
   "source": [
    "## Definición de parámetros y segmentos"
   ]
  },
  {
   "cell_type": "code",
   "execution_count": 2,
   "metadata": {},
   "outputs": [
    {
     "data": {
      "application/vnd.microsoft.datawrangler.viewer.v0+json": {
       "columns": [
        {
         "name": "index",
         "rawType": "int64",
         "type": "integer"
        },
        {
         "name": "segmento",
         "rawType": "object",
         "type": "string"
        },
        {
         "name": "prob_segmento",
         "rawType": "float64",
         "type": "float"
        },
        {
         "name": "mult_freq",
         "rawType": "float64",
         "type": "float"
        }
       ],
       "ref": "bba17eda-e4fc-4bb3-b46d-951a78d92cb8",
       "rows": [
        [
         "0",
         "Bajo riesgo",
         "0.3",
         "0.7"
        ],
        [
         "1",
         "Estándar",
         "0.5",
         "1.0"
        ],
        [
         "2",
         "Alto riesgo",
         "0.2",
         "1.5"
        ]
       ],
       "shape": {
        "columns": 3,
        "rows": 3
       }
      },
      "text/html": [
       "<div>\n",
       "<style scoped>\n",
       "    .dataframe tbody tr th:only-of-type {\n",
       "        vertical-align: middle;\n",
       "    }\n",
       "\n",
       "    .dataframe tbody tr th {\n",
       "        vertical-align: top;\n",
       "    }\n",
       "\n",
       "    .dataframe thead th {\n",
       "        text-align: right;\n",
       "    }\n",
       "</style>\n",
       "<table border=\"1\" class=\"dataframe\">\n",
       "  <thead>\n",
       "    <tr style=\"text-align: right;\">\n",
       "      <th></th>\n",
       "      <th>segmento</th>\n",
       "      <th>prob_segmento</th>\n",
       "      <th>mult_freq</th>\n",
       "    </tr>\n",
       "  </thead>\n",
       "  <tbody>\n",
       "    <tr>\n",
       "      <th>0</th>\n",
       "      <td>Bajo riesgo</td>\n",
       "      <td>0.3</td>\n",
       "      <td>0.7</td>\n",
       "    </tr>\n",
       "    <tr>\n",
       "      <th>1</th>\n",
       "      <td>Estándar</td>\n",
       "      <td>0.5</td>\n",
       "      <td>1.0</td>\n",
       "    </tr>\n",
       "    <tr>\n",
       "      <th>2</th>\n",
       "      <td>Alto riesgo</td>\n",
       "      <td>0.2</td>\n",
       "      <td>1.5</td>\n",
       "    </tr>\n",
       "  </tbody>\n",
       "</table>\n",
       "</div>"
      ],
      "text/plain": [
       "      segmento  prob_segmento  mult_freq\n",
       "0  Bajo riesgo            0.3        0.7\n",
       "1     Estándar            0.5        1.0\n",
       "2  Alto riesgo            0.2        1.5"
      ]
     },
     "execution_count": 2,
     "metadata": {},
     "output_type": "execute_result"
    }
   ],
   "source": [
    "# Número de pólizas a simular\n",
    "n_polizas = 10000\n",
    "\n",
    "# Frecuencias base por cobertura (probabilidad de siniestro por año)\n",
    "freq_base = {\"DM\": 0.05, \"Robo\": 0.04, \"RC\": 0.06}\n",
    "\n",
    "# Severidades medias por cobertura (en pesos)\n",
    "sev_media = {\"DM\": 21000, \"Robo\": 15000, \"RC\": 24000}\n",
    "\n",
    "# Parámetros de la lognormal: elegimos una desviación logarítmica moderada\n",
    "sigma_ln = 0.6\n",
    "mu_ln = {k: np.log(v) - 0.5 * sigma_ln**2 for k, v in sev_media.items()}\n",
    "\n",
    "# Definición de segmentos y multiplicadores de frecuencia\n",
    "segmentos = pd.DataFrame({\n",
    "    'segmento': ['Bajo riesgo', 'Estándar', 'Alto riesgo'],\n",
    "    'prob_segmento': [0.3, 0.5, 0.2],\n",
    "    'mult_freq': [0.7, 1.0, 1.5]\n",
    "})\n",
    "segmentos"
   ]
  },
  {
   "cell_type": "markdown",
   "metadata": {},
   "source": [
    "## Simulación de pólizas y siniestros"
   ]
  },
  {
   "cell_type": "code",
   "execution_count": 3,
   "metadata": {},
   "outputs": [
    {
     "data": {
      "application/vnd.microsoft.datawrangler.viewer.v0+json": {
       "columns": [
        {
         "name": "index",
         "rawType": "int64",
         "type": "integer"
        },
        {
         "name": "id_poliza",
         "rawType": "int32",
         "type": "integer"
        },
        {
         "name": "segmento",
         "rawType": "object",
         "type": "string"
        },
        {
         "name": "mult_freq",
         "rawType": "float64",
         "type": "float"
        },
        {
         "name": "n_siniestros_DM",
         "rawType": "int32",
         "type": "integer"
        },
        {
         "name": "siniestro_DM",
         "rawType": "float64",
         "type": "float"
        },
        {
         "name": "n_siniestros_Robo",
         "rawType": "int32",
         "type": "integer"
        },
        {
         "name": "siniestro_Robo",
         "rawType": "float64",
         "type": "float"
        },
        {
         "name": "n_siniestros_RC",
         "rawType": "int32",
         "type": "integer"
        },
        {
         "name": "siniestro_RC",
         "rawType": "float64",
         "type": "float"
        },
        {
         "name": "siniestro_total",
         "rawType": "float64",
         "type": "float"
        }
       ],
       "ref": "e8cffa95-a9d1-4440-ac1b-ed6d6851e927",
       "rows": [
        [
         "0",
         "1",
         "Bajo riesgo",
         "0.7",
         "0",
         "0.0",
         "0",
         "0.0",
         "0",
         "0.0",
         "0.0"
        ],
        [
         "1",
         "2",
         "Alto riesgo",
         "1.5",
         "0",
         "0.0",
         "0",
         "0.0",
         "0",
         "0.0",
         "0.0"
        ],
        [
         "2",
         "3",
         "Alto riesgo",
         "1.5",
         "0",
         "0.0",
         "0",
         "0.0",
         "0",
         "0.0",
         "0.0"
        ],
        [
         "3",
         "4",
         "Estándar",
         "1.0",
         "0",
         "0.0",
         "0",
         "0.0",
         "0",
         "0.0",
         "0.0"
        ],
        [
         "4",
         "5",
         "Estándar",
         "1.0",
         "0",
         "0.0",
         "0",
         "0.0",
         "0",
         "0.0",
         "0.0"
        ]
       ],
       "shape": {
        "columns": 10,
        "rows": 5
       }
      },
      "text/html": [
       "<div>\n",
       "<style scoped>\n",
       "    .dataframe tbody tr th:only-of-type {\n",
       "        vertical-align: middle;\n",
       "    }\n",
       "\n",
       "    .dataframe tbody tr th {\n",
       "        vertical-align: top;\n",
       "    }\n",
       "\n",
       "    .dataframe thead th {\n",
       "        text-align: right;\n",
       "    }\n",
       "</style>\n",
       "<table border=\"1\" class=\"dataframe\">\n",
       "  <thead>\n",
       "    <tr style=\"text-align: right;\">\n",
       "      <th></th>\n",
       "      <th>id_poliza</th>\n",
       "      <th>segmento</th>\n",
       "      <th>mult_freq</th>\n",
       "      <th>n_siniestros_DM</th>\n",
       "      <th>siniestro_DM</th>\n",
       "      <th>n_siniestros_Robo</th>\n",
       "      <th>siniestro_Robo</th>\n",
       "      <th>n_siniestros_RC</th>\n",
       "      <th>siniestro_RC</th>\n",
       "      <th>siniestro_total</th>\n",
       "    </tr>\n",
       "  </thead>\n",
       "  <tbody>\n",
       "    <tr>\n",
       "      <th>0</th>\n",
       "      <td>1</td>\n",
       "      <td>Bajo riesgo</td>\n",
       "      <td>0.7</td>\n",
       "      <td>0</td>\n",
       "      <td>0.0</td>\n",
       "      <td>0</td>\n",
       "      <td>0.0</td>\n",
       "      <td>0</td>\n",
       "      <td>0.0</td>\n",
       "      <td>0.0</td>\n",
       "    </tr>\n",
       "    <tr>\n",
       "      <th>1</th>\n",
       "      <td>2</td>\n",
       "      <td>Alto riesgo</td>\n",
       "      <td>1.5</td>\n",
       "      <td>0</td>\n",
       "      <td>0.0</td>\n",
       "      <td>0</td>\n",
       "      <td>0.0</td>\n",
       "      <td>0</td>\n",
       "      <td>0.0</td>\n",
       "      <td>0.0</td>\n",
       "    </tr>\n",
       "    <tr>\n",
       "      <th>2</th>\n",
       "      <td>3</td>\n",
       "      <td>Alto riesgo</td>\n",
       "      <td>1.5</td>\n",
       "      <td>0</td>\n",
       "      <td>0.0</td>\n",
       "      <td>0</td>\n",
       "      <td>0.0</td>\n",
       "      <td>0</td>\n",
       "      <td>0.0</td>\n",
       "      <td>0.0</td>\n",
       "    </tr>\n",
       "    <tr>\n",
       "      <th>3</th>\n",
       "      <td>4</td>\n",
       "      <td>Estándar</td>\n",
       "      <td>1.0</td>\n",
       "      <td>0</td>\n",
       "      <td>0.0</td>\n",
       "      <td>0</td>\n",
       "      <td>0.0</td>\n",
       "      <td>0</td>\n",
       "      <td>0.0</td>\n",
       "      <td>0.0</td>\n",
       "    </tr>\n",
       "    <tr>\n",
       "      <th>4</th>\n",
       "      <td>5</td>\n",
       "      <td>Estándar</td>\n",
       "      <td>1.0</td>\n",
       "      <td>0</td>\n",
       "      <td>0.0</td>\n",
       "      <td>0</td>\n",
       "      <td>0.0</td>\n",
       "      <td>0</td>\n",
       "      <td>0.0</td>\n",
       "      <td>0.0</td>\n",
       "    </tr>\n",
       "  </tbody>\n",
       "</table>\n",
       "</div>"
      ],
      "text/plain": [
       "   id_poliza     segmento  mult_freq  n_siniestros_DM  siniestro_DM  \\\n",
       "0          1  Bajo riesgo        0.7                0           0.0   \n",
       "1          2  Alto riesgo        1.5                0           0.0   \n",
       "2          3  Alto riesgo        1.5                0           0.0   \n",
       "3          4     Estándar        1.0                0           0.0   \n",
       "4          5     Estándar        1.0                0           0.0   \n",
       "\n",
       "   n_siniestros_Robo  siniestro_Robo  n_siniestros_RC  siniestro_RC  \\\n",
       "0                  0             0.0                0           0.0   \n",
       "1                  0             0.0                0           0.0   \n",
       "2                  0             0.0                0           0.0   \n",
       "3                  0             0.0                0           0.0   \n",
       "4                  0             0.0                0           0.0   \n",
       "\n",
       "   siniestro_total  \n",
       "0              0.0  \n",
       "1              0.0  \n",
       "2              0.0  \n",
       "3              0.0  \n",
       "4              0.0  "
      ]
     },
     "execution_count": 3,
     "metadata": {},
     "output_type": "execute_result"
    }
   ],
   "source": [
    "# Asignamos segmento a cada póliza\n",
    "polizas = pd.DataFrame({\n",
    "    'id_poliza': np.arange(1, n_polizas+1),\n",
    "    'segmento': np.random.choice(segmentos['segmento'], size=n_polizas, p=segmentos['prob_segmento'])\n",
    "})\n",
    "\n",
    "# Añadimos multiplicador de frecuencia\n",
    "polizas = polizas.merge(segmentos[['segmento', 'mult_freq']], on='segmento', how='left')\n",
    "\n",
    "# Función para simular siniestros y severidades por cobertura\n",
    "def simular_cobertura(freq_base, mult_freq, mu, sigma, size):\n",
    "    lam = freq_base * mult_freq\n",
    "    # Número de siniestros ~ Poisson(lam)\n",
    "    n_siniestros = np.random.poisson(lam, size=size)\n",
    "    severidades = []\n",
    "    for n in n_siniestros:\n",
    "        if n == 0:\n",
    "            severidades.append(0.0)\n",
    "        else:\n",
    "            # Suma de siniestros lognormales\n",
    "            severidades.append(np.sum(np.random.lognormal(mean=mu, sigma=sigma, size=n)))\n",
    "    return np.array(n_siniestros), np.array(severidades)\n",
    "\n",
    "# Simulamos para cada cobertura\n",
    "n_siniestros_DM, siniestro_DM = simular_cobertura(freq_base['DM'], polizas['mult_freq'], mu_ln['DM'], sigma_ln, n_polizas)\n",
    "n_siniestros_Robo, siniestro_Robo = simular_cobertura(freq_base['Robo'], polizas['mult_freq'], mu_ln['Robo'], sigma_ln, n_polizas)\n",
    "n_siniestros_RC, siniestro_RC = simular_cobertura(freq_base['RC'], polizas['mult_freq'], mu_ln['RC'], sigma_ln, n_polizas)\n",
    "\n",
    "# Incorporamos a la cartera\n",
    "cartera = polizas.copy()\n",
    "cartera['n_siniestros_DM'] = n_siniestros_DM\n",
    "cartera['siniestro_DM'] = siniestro_DM\n",
    "cartera['n_siniestros_Robo'] = n_siniestros_Robo\n",
    "cartera['siniestro_Robo'] = siniestro_Robo\n",
    "cartera['n_siniestros_RC'] = n_siniestros_RC\n",
    "cartera['siniestro_RC'] = siniestro_RC\n",
    "cartera['siniestro_total'] = cartera[['siniestro_DM','siniestro_Robo','siniestro_RC']].sum(axis=1)\n",
    "cartera.head()"
   ]
  },
  {
   "cell_type": "markdown",
   "metadata": {},
   "source": [
    "## Cálculo de primas y razón de siniestralidad"
   ]
  },
  {
   "cell_type": "code",
   "execution_count": 4,
   "metadata": {},
   "outputs": [
    {
     "data": {
      "application/vnd.microsoft.datawrangler.viewer.v0+json": {
       "columns": [
        {
         "name": "segmento",
         "rawType": "object",
         "type": "string"
        },
        {
         "name": "polizas",
         "rawType": "int64",
         "type": "integer"
        },
        {
         "name": "siniestro_total",
         "rawType": "float64",
         "type": "float"
        },
        {
         "name": "prima_total",
         "rawType": "float64",
         "type": "float"
        },
        {
         "name": "LR_promedio",
         "rawType": "float64",
         "type": "float"
        }
       ],
       "ref": "9b30c3c5-a5c2-46d8-888f-f3c2abbd025f",
       "rows": [
        [
         "Alto riesgo",
         "1988",
         "9402456.537306232",
         "11978694.0",
         "0.7849316909928772"
        ],
        [
         "Bajo riesgo",
         "2939",
         "6343404.062513801",
         "8264174.099999999",
         "0.7675787060819305"
        ],
        [
         "Estándar",
         "5073",
         "15813353.998039741",
         "20378241.0",
         "0.7759920985348903"
        ]
       ],
       "shape": {
        "columns": 4,
        "rows": 3
       }
      },
      "text/html": [
       "<div>\n",
       "<style scoped>\n",
       "    .dataframe tbody tr th:only-of-type {\n",
       "        vertical-align: middle;\n",
       "    }\n",
       "\n",
       "    .dataframe tbody tr th {\n",
       "        vertical-align: top;\n",
       "    }\n",
       "\n",
       "    .dataframe thead th {\n",
       "        text-align: right;\n",
       "    }\n",
       "</style>\n",
       "<table border=\"1\" class=\"dataframe\">\n",
       "  <thead>\n",
       "    <tr style=\"text-align: right;\">\n",
       "      <th></th>\n",
       "      <th>polizas</th>\n",
       "      <th>siniestro_total</th>\n",
       "      <th>prima_total</th>\n",
       "      <th>LR_promedio</th>\n",
       "    </tr>\n",
       "    <tr>\n",
       "      <th>segmento</th>\n",
       "      <th></th>\n",
       "      <th></th>\n",
       "      <th></th>\n",
       "      <th></th>\n",
       "    </tr>\n",
       "  </thead>\n",
       "  <tbody>\n",
       "    <tr>\n",
       "      <th>Alto riesgo</th>\n",
       "      <td>1988</td>\n",
       "      <td>9.402457e+06</td>\n",
       "      <td>11978694.0</td>\n",
       "      <td>0.784932</td>\n",
       "    </tr>\n",
       "    <tr>\n",
       "      <th>Bajo riesgo</th>\n",
       "      <td>2939</td>\n",
       "      <td>6.343404e+06</td>\n",
       "      <td>8264174.1</td>\n",
       "      <td>0.767579</td>\n",
       "    </tr>\n",
       "    <tr>\n",
       "      <th>Estándar</th>\n",
       "      <td>5073</td>\n",
       "      <td>1.581335e+07</td>\n",
       "      <td>20378241.0</td>\n",
       "      <td>0.775992</td>\n",
       "    </tr>\n",
       "  </tbody>\n",
       "</table>\n",
       "</div>"
      ],
      "text/plain": [
       "             polizas  siniestro_total  prima_total  LR_promedio\n",
       "segmento                                                       \n",
       "Alto riesgo     1988     9.402457e+06   11978694.0     0.784932\n",
       "Bajo riesgo     2939     6.343404e+06    8264174.1     0.767579\n",
       "Estándar        5073     1.581335e+07   20378241.0     0.775992"
      ]
     },
     "execution_count": 4,
     "metadata": {},
     "output_type": "execute_result"
    }
   ],
   "source": [
    "# Prima pura por cobertura (frecuencia x severidad media) por póliza\n",
    "prima_DM_pura = freq_base['DM']   * cartera['mult_freq'] * sev_media['DM']\n",
    "prima_Robo_pura = freq_base['Robo'] * cartera['mult_freq'] * sev_media['Robo']\n",
    "prima_RC_pura = freq_base['RC']   * cartera['mult_freq'] * sev_media['RC']\n",
    "\n",
    "# Aplicamos margen de gastos (30%)\n",
    "margin = 0.3\n",
    "cartera['prima_DM_comercial'] = prima_DM_pura * (1 + margin)\n",
    "cartera['prima_Robo_comercial'] = prima_Robo_pura * (1 + margin)\n",
    "cartera['prima_RC_comercial'] = prima_RC_pura * (1 + margin)\n",
    "\n",
    "cartera['prima_total'] = cartera[['prima_DM_comercial', 'prima_Robo_comercial', 'prima_RC_comercial']].sum(axis=1)\n",
    "\n",
    "# Razón de siniestralidad (loss ratio) por póliza\n",
    "cartera['LR'] = np.where(cartera['prima_total'] > 0, cartera['siniestro_total'] / cartera['prima_total'], np.nan)\n",
    "\n",
    "# Resumen por segmento\n",
    "resumen = cartera.groupby('segmento').agg({\n",
    "    'id_poliza': 'count',\n",
    "    'siniestro_total': 'sum',\n",
    "    'prima_total': 'sum'\n",
    "})\n",
    "resumen.rename(columns={'id_poliza': 'polizas'}, inplace=True)\n",
    "resumen['LR_promedio'] = resumen['siniestro_total'] / resumen['prima_total']\n",
    "resumen"
   ]
  },
  {
   "cell_type": "markdown",
   "metadata": {},
   "source": [
    "## Exportación del dataset"
   ]
  },
  {
   "cell_type": "code",
   "execution_count": 5,
   "metadata": {},
   "outputs": [
    {
     "data": {
      "application/vnd.microsoft.datawrangler.viewer.v0+json": {
       "columns": [
        {
         "name": "index",
         "rawType": "int64",
         "type": "integer"
        },
        {
         "name": "id_poliza",
         "rawType": "int32",
         "type": "integer"
        },
        {
         "name": "segmento",
         "rawType": "object",
         "type": "string"
        },
        {
         "name": "mult_freq",
         "rawType": "float64",
         "type": "float"
        },
        {
         "name": "n_siniestros_DM",
         "rawType": "int32",
         "type": "integer"
        },
        {
         "name": "siniestro_DM",
         "rawType": "float64",
         "type": "float"
        },
        {
         "name": "n_siniestros_Robo",
         "rawType": "int32",
         "type": "integer"
        },
        {
         "name": "siniestro_Robo",
         "rawType": "float64",
         "type": "float"
        },
        {
         "name": "n_siniestros_RC",
         "rawType": "int32",
         "type": "integer"
        },
        {
         "name": "siniestro_RC",
         "rawType": "float64",
         "type": "float"
        },
        {
         "name": "siniestro_total",
         "rawType": "float64",
         "type": "float"
        },
        {
         "name": "prima_DM_comercial",
         "rawType": "float64",
         "type": "float"
        },
        {
         "name": "prima_Robo_comercial",
         "rawType": "float64",
         "type": "float"
        },
        {
         "name": "prima_RC_comercial",
         "rawType": "float64",
         "type": "float"
        },
        {
         "name": "prima_total",
         "rawType": "float64",
         "type": "float"
        },
        {
         "name": "LR",
         "rawType": "float64",
         "type": "float"
        }
       ],
       "ref": "1ad04a3a-2cdc-43d0-a1d9-d6018b4d17c6",
       "rows": [
        [
         "0",
         "1",
         "Bajo riesgo",
         "0.7",
         "0",
         "0.0",
         "0",
         "0.0",
         "0",
         "0.0",
         "0.0",
         "955.4999999999999",
         "546.0",
         "1310.3999999999999",
         "2811.8999999999996",
         "0.0"
        ],
        [
         "1",
         "2",
         "Alto riesgo",
         "1.5",
         "0",
         "0.0",
         "0",
         "0.0",
         "0",
         "0.0",
         "0.0",
         "2047.5000000000005",
         "1170.0",
         "2808.0",
         "6025.5",
         "0.0"
        ],
        [
         "2",
         "3",
         "Alto riesgo",
         "1.5",
         "0",
         "0.0",
         "0",
         "0.0",
         "0",
         "0.0",
         "0.0",
         "2047.5000000000005",
         "1170.0",
         "2808.0",
         "6025.5",
         "0.0"
        ],
        [
         "3",
         "4",
         "Estándar",
         "1.0",
         "0",
         "0.0",
         "0",
         "0.0",
         "0",
         "0.0",
         "0.0",
         "1365.0",
         "780.0",
         "1872.0",
         "4017.0",
         "0.0"
        ],
        [
         "4",
         "5",
         "Estándar",
         "1.0",
         "0",
         "0.0",
         "0",
         "0.0",
         "0",
         "0.0",
         "0.0",
         "1365.0",
         "780.0",
         "1872.0",
         "4017.0",
         "0.0"
        ]
       ],
       "shape": {
        "columns": 15,
        "rows": 5
       }
      },
      "text/html": [
       "<div>\n",
       "<style scoped>\n",
       "    .dataframe tbody tr th:only-of-type {\n",
       "        vertical-align: middle;\n",
       "    }\n",
       "\n",
       "    .dataframe tbody tr th {\n",
       "        vertical-align: top;\n",
       "    }\n",
       "\n",
       "    .dataframe thead th {\n",
       "        text-align: right;\n",
       "    }\n",
       "</style>\n",
       "<table border=\"1\" class=\"dataframe\">\n",
       "  <thead>\n",
       "    <tr style=\"text-align: right;\">\n",
       "      <th></th>\n",
       "      <th>id_poliza</th>\n",
       "      <th>segmento</th>\n",
       "      <th>mult_freq</th>\n",
       "      <th>n_siniestros_DM</th>\n",
       "      <th>siniestro_DM</th>\n",
       "      <th>n_siniestros_Robo</th>\n",
       "      <th>siniestro_Robo</th>\n",
       "      <th>n_siniestros_RC</th>\n",
       "      <th>siniestro_RC</th>\n",
       "      <th>siniestro_total</th>\n",
       "      <th>prima_DM_comercial</th>\n",
       "      <th>prima_Robo_comercial</th>\n",
       "      <th>prima_RC_comercial</th>\n",
       "      <th>prima_total</th>\n",
       "      <th>LR</th>\n",
       "    </tr>\n",
       "  </thead>\n",
       "  <tbody>\n",
       "    <tr>\n",
       "      <th>0</th>\n",
       "      <td>1</td>\n",
       "      <td>Bajo riesgo</td>\n",
       "      <td>0.7</td>\n",
       "      <td>0</td>\n",
       "      <td>0.0</td>\n",
       "      <td>0</td>\n",
       "      <td>0.0</td>\n",
       "      <td>0</td>\n",
       "      <td>0.0</td>\n",
       "      <td>0.0</td>\n",
       "      <td>955.5</td>\n",
       "      <td>546.0</td>\n",
       "      <td>1310.4</td>\n",
       "      <td>2811.9</td>\n",
       "      <td>0.0</td>\n",
       "    </tr>\n",
       "    <tr>\n",
       "      <th>1</th>\n",
       "      <td>2</td>\n",
       "      <td>Alto riesgo</td>\n",
       "      <td>1.5</td>\n",
       "      <td>0</td>\n",
       "      <td>0.0</td>\n",
       "      <td>0</td>\n",
       "      <td>0.0</td>\n",
       "      <td>0</td>\n",
       "      <td>0.0</td>\n",
       "      <td>0.0</td>\n",
       "      <td>2047.5</td>\n",
       "      <td>1170.0</td>\n",
       "      <td>2808.0</td>\n",
       "      <td>6025.5</td>\n",
       "      <td>0.0</td>\n",
       "    </tr>\n",
       "    <tr>\n",
       "      <th>2</th>\n",
       "      <td>3</td>\n",
       "      <td>Alto riesgo</td>\n",
       "      <td>1.5</td>\n",
       "      <td>0</td>\n",
       "      <td>0.0</td>\n",
       "      <td>0</td>\n",
       "      <td>0.0</td>\n",
       "      <td>0</td>\n",
       "      <td>0.0</td>\n",
       "      <td>0.0</td>\n",
       "      <td>2047.5</td>\n",
       "      <td>1170.0</td>\n",
       "      <td>2808.0</td>\n",
       "      <td>6025.5</td>\n",
       "      <td>0.0</td>\n",
       "    </tr>\n",
       "    <tr>\n",
       "      <th>3</th>\n",
       "      <td>4</td>\n",
       "      <td>Estándar</td>\n",
       "      <td>1.0</td>\n",
       "      <td>0</td>\n",
       "      <td>0.0</td>\n",
       "      <td>0</td>\n",
       "      <td>0.0</td>\n",
       "      <td>0</td>\n",
       "      <td>0.0</td>\n",
       "      <td>0.0</td>\n",
       "      <td>1365.0</td>\n",
       "      <td>780.0</td>\n",
       "      <td>1872.0</td>\n",
       "      <td>4017.0</td>\n",
       "      <td>0.0</td>\n",
       "    </tr>\n",
       "    <tr>\n",
       "      <th>4</th>\n",
       "      <td>5</td>\n",
       "      <td>Estándar</td>\n",
       "      <td>1.0</td>\n",
       "      <td>0</td>\n",
       "      <td>0.0</td>\n",
       "      <td>0</td>\n",
       "      <td>0.0</td>\n",
       "      <td>0</td>\n",
       "      <td>0.0</td>\n",
       "      <td>0.0</td>\n",
       "      <td>1365.0</td>\n",
       "      <td>780.0</td>\n",
       "      <td>1872.0</td>\n",
       "      <td>4017.0</td>\n",
       "      <td>0.0</td>\n",
       "    </tr>\n",
       "  </tbody>\n",
       "</table>\n",
       "</div>"
      ],
      "text/plain": [
       "   id_poliza     segmento  mult_freq  n_siniestros_DM  siniestro_DM  \\\n",
       "0          1  Bajo riesgo        0.7                0           0.0   \n",
       "1          2  Alto riesgo        1.5                0           0.0   \n",
       "2          3  Alto riesgo        1.5                0           0.0   \n",
       "3          4     Estándar        1.0                0           0.0   \n",
       "4          5     Estándar        1.0                0           0.0   \n",
       "\n",
       "   n_siniestros_Robo  siniestro_Robo  n_siniestros_RC  siniestro_RC  \\\n",
       "0                  0             0.0                0           0.0   \n",
       "1                  0             0.0                0           0.0   \n",
       "2                  0             0.0                0           0.0   \n",
       "3                  0             0.0                0           0.0   \n",
       "4                  0             0.0                0           0.0   \n",
       "\n",
       "   siniestro_total  prima_DM_comercial  prima_Robo_comercial  \\\n",
       "0              0.0               955.5                 546.0   \n",
       "1              0.0              2047.5                1170.0   \n",
       "2              0.0              2047.5                1170.0   \n",
       "3              0.0              1365.0                 780.0   \n",
       "4              0.0              1365.0                 780.0   \n",
       "\n",
       "   prima_RC_comercial  prima_total   LR  \n",
       "0              1310.4       2811.9  0.0  \n",
       "1              2808.0       6025.5  0.0  \n",
       "2              2808.0       6025.5  0.0  \n",
       "3              1872.0       4017.0  0.0  \n",
       "4              1872.0       4017.0  0.0  "
      ]
     },
     "execution_count": 5,
     "metadata": {},
     "output_type": "execute_result"
    }
   ],
   "source": [
    "# Guardamos la cartera simulada en un archivo CSV\n",
    "cartera.to_csv('cartera_autos_simulada_Python.csv', index=False)\n",
    "cartera.head()"
   ]
  },
  {
   "cell_type": "markdown",
   "metadata": {},
   "source": [
    "## Reflexión final\n",
    "\n",
    "El ejercicio muestra cómo a partir de unos pocos supuestos de frecuencia y severidad, ajustados por segmento, se puede generar un dataset rico en información que ayude a analizar la siniestralidad y las primas esperadas de un producto. Recuerda contrastar las métricas obtenidas con los indicadores publicados por la CNSF y documentar los supuestos adoptados."
   ]
  }
 ],
 "metadata": {
  "kernelspec": {
   "display_name": "6.86x",
   "language": "python",
   "name": "python3"
  },
  "language_info": {
   "codemirror_mode": {
    "name": "ipython",
    "version": 3
   },
   "file_extension": ".py",
   "mimetype": "text/x-python",
   "name": "python",
   "nbconvert_exporter": "python",
   "pygments_lexer": "ipython3",
   "version": "3.8.18"
  }
 },
 "nbformat": 4,
 "nbformat_minor": 4
}
